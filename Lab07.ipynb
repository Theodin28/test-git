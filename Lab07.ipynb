{
  "nbformat": 4,
  "nbformat_minor": 0,
  "metadata": {
    "kernelspec": {
      "display_name": "Python 3",
      "language": "python",
      "name": "python3"
    },
    "language_info": {
      "codemirror_mode": {
        "name": "ipython",
        "version": 3
      },
      "file_extension": ".py",
      "mimetype": "text/x-python",
      "name": "python",
      "nbconvert_exporter": "python",
      "pygments_lexer": "ipython3",
      "version": "3.7.3"
    },
    "nav_menu": {
      "height": "264px",
      "width": "369px"
    },
    "toc": {
      "navigate_menu": true,
      "number_sections": true,
      "sideBar": true,
      "threshold": 6,
      "toc_cell": false,
      "toc_section_display": "block",
      "toc_window_display": false
    },
    "colab": {
      "name": "Lab07.ipynb",
      "provenance": [],
      "collapsed_sections": [],
      "toc_visible": true,
      "include_colab_link": true
    }
  },
  "cells": [
    {
      "cell_type": "markdown",
      "metadata": {
        "id": "view-in-github",
        "colab_type": "text"
      },
      "source": [
        "<a href=\"https://colab.research.google.com/github/Theodin28/test-git/blob/master/Lab07.ipynb\" target=\"_parent\"><img src=\"https://colab.research.google.com/assets/colab-badge.svg\" alt=\"Open In Colab\"/></a>"
      ]
    },
    {
      "cell_type": "markdown",
      "metadata": {
        "id": "Yay-AOr1zkFT",
        "colab_type": "text"
      },
      "source": [
        "## Introduction to Artificial Neural Networks\n",
        "\n",
        "In this lab, we will learn how to set up some Neural Networks to do image classification. \n",
        "\n",
        "We will use both the sklearn package and the Keras framework."
      ]
    },
    {
      "cell_type": "markdown",
      "metadata": {
        "id": "w87lvc76zkFU",
        "colab_type": "text"
      },
      "source": [
        "# Setup\n",
        "\n",
        "It is good practice to do your standard imports at the start of your notebook.\n",
        "\n",
        "You can also do specific imports just at the points they are required."
      ]
    },
    {
      "cell_type": "code",
      "metadata": {
        "id": "oeUj5I4hzkFV",
        "colab_type": "code",
        "colab": {}
      },
      "source": [
        "import sklearn\n",
        "import tensorflow as tf\n",
        "import numpy as np\n",
        "import os\n",
        "\n",
        "%matplotlib inline\n",
        "import matplotlib as mpl\n",
        "import matplotlib.pyplot as plt"
      ],
      "execution_count": 0,
      "outputs": []
    },
    {
      "cell_type": "markdown",
      "metadata": {
        "id": "ylvnL9XSzkFZ",
        "colab_type": "text"
      },
      "source": [
        "# Google Colab\n",
        "\n",
        "Colaboratory, or \"Colab\" for short, is an IDE/python notebook that enables you to write and execute Python in your browser, with \n",
        "- no configuration required\n",
        "- access to GPUs\n",
        "- sharing of notebooks\n",
        "\n",
        "First we download our data into Colab. You will need a Google account to perform this step."
      ]
    },
    {
      "cell_type": "markdown",
      "metadata": {
        "id": "FCa2DORmt_OV",
        "colab_type": "text"
      },
      "source": [
        "##The Hand Gesture Dataset\n",
        "\n",
        "The image dataset we will work with today is a collection of infrared images of hand gestures. You can read more about it [here](https://sites.google.com/site/leapgestrecog/home)"
      ]
    },
    {
      "cell_type": "code",
      "metadata": {
        "id": "RZ-rvOVgA84o",
        "colab_type": "code",
        "colab": {}
      },
      "source": [
        "###Downloading hand gesture dataset\n",
        "# Code to download file into Colaboratory:\n",
        "!pip install -U -q PyDrive\n",
        "from pydrive.auth import GoogleAuth\n",
        "from pydrive.drive import GoogleDrive\n",
        "from google.colab import auth\n",
        "from oauth2client.client import GoogleCredentials\n",
        "# Authenticate and create the PyDrive client.\n",
        "auth.authenticate_user()\n",
        "gauth = GoogleAuth()\n",
        "gauth.credentials = GoogleCredentials.get_application_default()\n",
        "drive = GoogleDrive(gauth)\n",
        "\n",
        "# Google Colab provides downloadable links to data from Google drive.\n",
        "# You need to know the Google id of the data, which we provide for you.\n",
        "\n",
        "#Downloading hand gesture dataset (modified from https://www.kaggle.com/gti-upm/leapgestrecog/version/1)\n",
        "id = '1EVCibsWq1vq5R8ARLL6b5_qCieDmX6XS'\n",
        "downloaded = drive.CreateFile({'id':id}) \n",
        "downloaded.GetContentFile('x_test.npy')\n",
        "\n",
        "id = '1ENkRtJvEiYDV5mIPxxGAbdW8uyrNGpfi'\n",
        "downloaded = drive.CreateFile({'id':id}) \n",
        "downloaded.GetContentFile('x_train.npy')\n",
        "\n",
        "id='1EWwUYJOHu158m_TEm1dmnY9vmSTN3g38'\n",
        "downloaded = drive.CreateFile({'id':id}) \n",
        "downloaded.GetContentFile('y_test.npy')\n",
        "\n",
        "id='1Eaus0CR6OFcJzornbT27PpXkBBWOMIJI'\n",
        "downloaded = drive.CreateFile({'id':id}) \n",
        "downloaded.GetContentFile('y_train.npy')\n"
      ],
      "execution_count": 0,
      "outputs": []
    },
    {
      "cell_type": "markdown",
      "metadata": {
        "id": "xhQLb--mJykt",
        "colab_type": "text"
      },
      "source": [
        "Look at the shape of the data. What do the four dimensions represent?"
      ]
    },
    {
      "cell_type": "code",
      "metadata": {
        "id": "lrj4ESf51nSN",
        "colab_type": "code",
        "outputId": "f1a20010-fffb-4541-d94c-dbb70d36767b",
        "colab": {
          "base_uri": "https://localhost:8080/",
          "height": 34
        }
      },
      "source": [
        "###load and scale the dataset\n",
        "x_train=np.load('x_train.npy').astype('float32')/255\n",
        "x_test=np.load('x_test.npy').astype('float32')/255\n",
        "y_train=np.load('y_train.npy')\n",
        "y_test=np.load('y_test.npy')\n",
        "print(x_train.shape)\n",
        "_,height,width,_=x_train.shape\n"
      ],
      "execution_count": 0,
      "outputs": [
        {
          "output_type": "stream",
          "text": [
            "(14000, 120, 320, 1)\n"
          ],
          "name": "stdout"
        }
      ]
    },
    {
      "cell_type": "code",
      "metadata": {
        "id": "-AdAHImDgAK0",
        "colab_type": "code",
        "outputId": "f14e65af-2785-44e9-b788-6e20c8d0c0f1",
        "colab": {
          "base_uri": "https://localhost:8080/",
          "height": 34
        }
      },
      "source": [
        "print(x_train[0][0][0])"
      ],
      "execution_count": 0,
      "outputs": [
        {
          "output_type": "stream",
          "text": [
            "[0.01568628]\n"
          ],
          "name": "stdout"
        }
      ]
    },
    {
      "cell_type": "markdown",
      "metadata": {
        "id": "k3AyM3PqlmDW",
        "colab_type": "text"
      },
      "source": [
        "\n",
        "Have a peep at the training data by looking at the first image and its label.\n",
        "\n"
      ]
    },
    {
      "cell_type": "code",
      "metadata": {
        "id": "VtpWW6_M10hw",
        "colab_type": "code",
        "outputId": "6fa1badd-53a4-412f-921f-6567eaa55311",
        "colab": {
          "base_uri": "https://localhost:8080/",
          "height": 194
        }
      },
      "source": [
        "\n",
        "plt.imshow(x_train.reshape(x_train.shape[0],height,width)[0])\n",
        "print('label:',y_train[0])\n"
      ],
      "execution_count": 0,
      "outputs": [
        {
          "output_type": "stream",
          "text": [
            "label: 7\n"
          ],
          "name": "stdout"
        },
        {
          "output_type": "display_data",
          "data": {
            "image/png": "[encoded data removed]",
            "text/plain": [
              "<Figure size 432x288 with 1 Axes>"
            ]
          },
          "metadata": {
            "tags": []
          }
        }
      ]
    },
    {
      "cell_type": "markdown",
      "metadata": {
        "id": "YnMvkbb_-WG3",
        "colab_type": "text"
      },
      "source": [
        "##Meaning of labels in this dataset:\n",
        "\n",
        "There are ten types of images in this dataset, with labels as follows:\n",
        "\n",
        "0---Thumb down;    1---Palm (Horizontal);    2---L;    3---Fist (Horizontal);    4---Fist (Vertical);    5---Thumbs up;    6---Index;    7---OK;    8---Palm (Vertical);    9---C\n",
        "\n",
        "\n"
      ]
    },
    {
      "cell_type": "markdown",
      "metadata": {
        "id": "lme6fJvdKhR2",
        "colab_type": "text"
      },
      "source": [
        "\n",
        "\n",
        "---\n",
        "\n"
      ]
    },
    {
      "cell_type": "markdown",
      "metadata": {
        "id": "Q5n234p9HON7",
        "colab_type": "text"
      },
      "source": [
        "# Perceptrons\n",
        "\n",
        "A perceptron is one of the simplest neural networks. It directly models a neuron in a brain, with inputs, an activation function, and output(s). It has learnable weights and biases that can be trained via backpropagation of a loss calculated at each iteration.\n",
        "\n",
        "We are going to train a perceptron on our dataset using Sklearn.\n",
        "\n",
        "Always have a look at the user guide for the model you are using:\n",
        "\n",
        "https://scikit-learn.org/stable/modules/generated/sklearn.linear_model.Perceptron.html"
      ]
    },
    {
      "cell_type": "code",
      "metadata": {
        "id": "sLaZ-Uo1zkFa",
        "colab_type": "code",
        "outputId": "467c8930-818e-486c-9260-b46e422f3e2b",
        "colab": {
          "base_uri": "https://localhost:8080/",
          "height": 139
        }
      },
      "source": [
        "from sklearn.linear_model import Perceptron\n",
        "\n",
        "np.random.seed(42)\n",
        "\n",
        "###To shorten the training process, we will randomly pick 1000 images each for\\\n",
        "###both training and testing from the original dataset. \n",
        "###You can try to use the whole dataset in the excercise.\n",
        "index = np.arange(x_train.shape[0])\n",
        "np.random.shuffle(index)\n",
        "chosen_train = index[0:1000]\n",
        "index = np.arange(x_test.shape[0])\n",
        "np.random.shuffle(index)\n",
        "chosen_test = index[0:1000]\n",
        "\n",
        "\n",
        "###flatten and indexing\n",
        "X = x_train.reshape(x_train.shape[0],-1)[chosen_train]\n",
        "\n",
        "print(X.shape)  #120*320\n",
        "\n",
        "y = y_train[chosen_train]\n",
        "\n",
        "\n",
        "###make an instance of the Perceptron model and train it\n",
        "per_clf = Perceptron(max_iter=1000, tol=1e-3, random_state=42)\n",
        "per_clf.fit(X, y)\n",
        "print('perceptron trained')\n",
        "\n",
        "\n",
        "###predict and evaluate on 1000 samples from test set\n",
        "x_test_ = x_test.reshape(x_test.shape[0],-1)[chosen_test]\n",
        "y_test_ = y_test[chosen_test]\n",
        "\n",
        "y_pred_per = per_clf.predict(x_test_)\n",
        "comparison_per = np.where(y_pred_per==y_test_,1,0)\n",
        "print('first 100 results: 1=correct')\n",
        "print(comparison_per[0:100])\n",
        "accuracy_per = np.sum(comparison_per)/x_test_.shape[0]\n",
        "print(f\"test accuracy: {(accuracy_per*100):.2f}%\")"
      ],
      "execution_count": 0,
      "outputs": [
        {
          "output_type": "stream",
          "text": [
            "(1000, 38400)\n",
            "perceptron trained\n",
            "first 100 results: 1=correct\n",
            "[0 1 1 1 1 1 1 1 1 1 1 0 1 1 1 1 1 1 1 1 1 1 1 0 1 1 1 1 1 1 1 0 1 1 1 1 0\n",
            " 1 1 1 1 1 1 1 1 0 1 1 1 1 1 1 1 1 1 1 1 1 1 0 1 1 1 1 1 0 1 1 1 1 1 1 1 1\n",
            " 1 1 1 1 0 1 1 1 1 0 1 0 1 1 1 1 1 1 1 1 1 1 1 1 1 1]\n",
            "test accuracy: 88.40%\n"
          ],
          "name": "stdout"
        }
      ]
    },
    {
      "cell_type": "markdown",
      "metadata": {
        "id": "fkSo3ElozkFi",
        "colab_type": "text"
      },
      "source": [
        "# Activation functions\n",
        "\n",
        "A neuron in a neural network applies an activation function to the sum of its inputs, in order to calculate its output. An activation function is monotonically increasing (so that the output can be activated for all values of the weighted input above some value) and piecewise differentiable (this is important to enable backpropagation).\n",
        "\n",
        "Let's plot some well known activation functions and their derivatives."
      ]
    },
    {
      "cell_type": "code",
      "metadata": {
        "id": "avi6TQo3v01f",
        "colab_type": "code",
        "colab": {}
      },
      "source": [
        "###a plot function that applies activations to an input z in\n",
        "def plot_activation_derivative(**kwargs):\n",
        "      \n",
        "  z = np.linspace(-5, 5, 200)\n",
        "  plt.figure(figsize=(11,4))\n",
        "  plt.subplot(121)\n",
        "  for i in kwargs:\n",
        "    act_func=kwargs.get(i)\n",
        "    plt.plot(z, act_func(z), linewidth=2, label=act_func.__name__)\n",
        "  \n",
        "  plt.plot(z,np.zeros(z.shape),'k',linewidth=1)\n",
        "  plt.plot(np.zeros(z.shape),z,'k',linewidth=1)\n",
        "  plt.grid(True)\n",
        "  plt.legend(loc=\"best\", fontsize=12)\n",
        "  plt.title(\"Activation function\", fontsize=14)\n",
        "  plt.xlabel('input', fontsize=12)\n",
        "  plt.ylabel('activation output',fontsize=12)\n",
        "  plt.axis([-5, 5, -1.5, 1.5])\n",
        "  \n",
        "\n",
        "  plt.subplot(122)\n",
        "  for i in kwargs:\n",
        "    act_func=kwargs.get(i)\n",
        "    plt.plot(z, derivative(act_func, z), linewidth=2, label=act_func.__name__)\n",
        "\n",
        "  plt.plot(z,np.zeros(z.shape),'k',linewidth=1)\n",
        "  plt.plot(np.zeros(z.shape),z,'k',linewidth=1)\n",
        "  plt.grid(True)\n",
        "  plt.legend(loc=\"best\", fontsize=12)\n",
        "  plt.title(\"Derivatives\", fontsize=14)\n",
        "  plt.xlabel('input', fontsize=12)\n",
        "  plt.ylabel('derivative',fontsize=12)\n",
        "  plt.axis([-5, 5, -0.2, 1.2])\n",
        "\n",
        "  plt.show()"
      ],
      "execution_count": 0,
      "outputs": []
    },
    {
      "cell_type": "code",
      "metadata": {
        "id": "q_zUa_dTzkFj",
        "colab_type": "code",
        "colab": {}
      },
      "source": [
        "###define different activation functions\n",
        "def sigmoid(z):\n",
        "    return 1 / (1 + np.exp(-z))\n",
        "\n",
        "def relu(z):\n",
        "    return np.maximum(0, z)\n",
        "\n",
        "def leakyrelu(z,alpha=0.05):\n",
        "    return np.maximum(alpha*z,z)\n",
        "\n",
        "def tanh(z):\n",
        "    return np.tanh(z)\n",
        "\n",
        "def elu(z,alpha=0.05):\n",
        "    return np.where(z>=0,z,alpha*(np.exp(z)-1))\n",
        "\n",
        "def maxout(z,w1=1.1,b1=0.5,w2=0.1,b2=-0.3):\n",
        "    return np.where((w1*z+b1)>(w2*z+b2),(w1*z+b1),(w2*z+b2))\n",
        "\n",
        "def derivative(f, z, eps=0.000001):\n",
        "    return (f(z + eps) - f(z - eps))/(2 * eps)"
      ],
      "execution_count": 0,
      "outputs": []
    },
    {
      "cell_type": "code",
      "metadata": {
        "id": "8A_i08EGuXzv",
        "colab_type": "code",
        "outputId": "450997f2-3b88-4f3c-e2ef-c7d3bc1cc4cb",
        "colab": {
          "base_uri": "https://localhost:8080/",
          "height": 299
        }
      },
      "source": [
        "# Compare the defined activation functions with input between(-5,5) and their estimated derivative\n",
        "# Put activation functions defined above as plot function arguments \n",
        "plot_activation_derivative(f1=sigmoid, f2=relu, f3=tanh)"
      ],
      "execution_count": 0,
      "outputs": [
        {
          "output_type": "display_data",
          "data": {
            "image/png": "[encoded data removed]",
            "text/plain": [
              "<Figure size 792x288 with 2 Axes>"
            ]
          },
          "metadata": {
            "tags": []
          }
        }
      ]
    },
    {
      "cell_type": "markdown",
      "metadata": {
        "id": "TE1MP9z9n58Z",
        "colab_type": "text"
      },
      "source": [
        "##Task\n",
        "\n",
        "Please add the other activation functions to the plot."
      ]
    },
    {
      "cell_type": "markdown",
      "metadata": {
        "id": "o9FVuvJFzkFs",
        "colab_type": "text"
      },
      "source": [
        "\n",
        "\n",
        "# Building an Image Classifier"
      ]
    },
    {
      "cell_type": "markdown",
      "metadata": {
        "id": "A69JGCS0zkFt",
        "colab_type": "text"
      },
      "source": [
        "Next we are going to use the Keras framework to build an image classifier for our dataset. Keras is a user friendly front end for TensorFlow. \n",
        "\n",
        "The TensorFlow library is a library especially designed for writing neural networks. It represents the network in memory as a graph and uses a datatype called tensors.\n",
        "\n",
        "First let's import TensorFlow and Keras."
      ]
    },
    {
      "cell_type": "code",
      "metadata": {
        "id": "gqb6g889zkFt",
        "colab_type": "code",
        "colab": {}
      },
      "source": [
        "import tensorflow as tf\n",
        "from tensorflow import keras"
      ],
      "execution_count": 0,
      "outputs": []
    },
    {
      "cell_type": "markdown",
      "metadata": {
        "id": "z5-nBf85PpTt",
        "colab_type": "text"
      },
      "source": [
        "Clear any existing TensorFlow graph from memory and set random seeds."
      ]
    },
    {
      "cell_type": "code",
      "metadata": {
        "id": "krSnlsXezkGS",
        "colab_type": "code",
        "colab": {}
      },
      "source": [
        "keras.backend.clear_session()\n",
        "np.random.seed(42)\n",
        "tf.random.set_seed(42)"
      ],
      "execution_count": 0,
      "outputs": []
    },
    {
      "cell_type": "markdown",
      "metadata": {
        "id": "pmuRm62RP4KF",
        "colab_type": "text"
      },
      "source": [
        "Define a Keras Sequential model with an input layer and three dense layers. What is a dense layer?\n",
        "\n",
        "Again, please look at the user guides:\n",
        "\n",
        "https://keras.io/getting-started/sequential-model-guide/\n",
        "\n",
        "https://keras.io/layers/core/ (for the Dense layer)\n",
        "\n",
        "The hidden layers will have relu activation in their neurons.\n"
      ]
    },
    {
      "cell_type": "code",
      "metadata": {
        "id": "Aogxg7MAzkGT",
        "colab_type": "code",
        "colab": {}
      },
      "source": [
        "model = keras.models.Sequential([\n",
        "    keras.layers.InputLayer(input_shape=[height*width],batch_size=100),\n",
        "    keras.layers.Dense(300, activation=\"relu\", kernel_initializer='he_normal'),\n",
        "    keras.layers.Dense(300, activation=\"relu\", kernel_initializer='he_normal'),\n",
        "    keras.layers.Dense(10, activation=\"softmax\")\n",
        "])"
      ],
      "execution_count": 0,
      "outputs": []
    },
    {
      "cell_type": "markdown",
      "metadata": {
        "id": "d2zqXI_nW_Aq",
        "colab_type": "text"
      },
      "source": [
        "The final layer has a size of 10 and a softmax activation. What are we trying to achieve with this layer?"
      ]
    },
    {
      "cell_type": "markdown",
      "metadata": {
        "id": "nMPA3VoRQu0x",
        "colab_type": "text"
      },
      "source": [
        "We can look at the model in various ways: list the layers (not too useful), print a summary (useful for seeing the number of trainable parameters and output dimensions), or plot a simple visualisation the model."
      ]
    },
    {
      "cell_type": "code",
      "metadata": {
        "id": "nxkcXRmXzkGV",
        "colab_type": "code",
        "outputId": "d2434e04-d506-483f-f261-f881d8ab2e22",
        "colab": {
          "base_uri": "https://localhost:8080/",
          "height": 69
        }
      },
      "source": [
        "model.layers"
      ],
      "execution_count": 0,
      "outputs": [
        {
          "output_type": "execute_result",
          "data": {
            "text/plain": [
              "[<tensorflow.python.keras.layers.core.Dense at 0x7f5d425c2eb8>,\n",
              " <tensorflow.python.keras.layers.core.Dense at 0x7f5d425bbc18>,\n",
              " <tensorflow.python.keras.layers.core.Dense at 0x7f5d425f8278>]"
            ]
          },
          "metadata": {
            "tags": []
          },
          "execution_count": 13
        }
      ]
    },
    {
      "cell_type": "code",
      "metadata": {
        "id": "UuQMH3Q2zkGX",
        "colab_type": "code",
        "outputId": "5c33e04b-cbc7-4e20-9d8f-2b045c1eb65c",
        "colab": {
          "base_uri": "https://localhost:8080/",
          "height": 260
        }
      },
      "source": [
        "model.summary()"
      ],
      "execution_count": 0,
      "outputs": [
        {
          "output_type": "stream",
          "text": [
            "Model: \"sequential\"\n",
            "_________________________________________________________________\n",
            "Layer (type)                 Output Shape              Param #   \n",
            "=================================================================\n",
            "dense (Dense)                (100, 300)                11520300  \n",
            "_________________________________________________________________\n",
            "dense_1 (Dense)              (100, 300)                90300     \n",
            "_________________________________________________________________\n",
            "dense_2 (Dense)              (100, 10)                 3010      \n",
            "=================================================================\n",
            "Total params: 11,613,610\n",
            "Trainable params: 11,613,610\n",
            "Non-trainable params: 0\n",
            "_________________________________________________________________\n"
          ],
          "name": "stdout"
        }
      ]
    },
    {
      "cell_type": "code",
      "metadata": {
        "id": "UZ_ZhqJLzkGZ",
        "colab_type": "code",
        "outputId": "47d292b1-634d-4b1d-f2ef-da7da97cefc7",
        "colab": {
          "base_uri": "https://localhost:8080/",
          "height": 422
        }
      },
      "source": [
        "keras.utils.plot_model(model, \"my_hand_gestures_model.png\", show_shapes=True)"
      ],
      "execution_count": 0,
      "outputs": [
        {
          "output_type": "execute_result",
          "data": {
            "image/png": "[encoded data removed]",
            "text/plain": [
              "<IPython.core.display.Image object>"
            ]
          },
          "metadata": {
            "tags": []
          },
          "execution_count": 15
        }
      ]
    },
    {
      "cell_type": "markdown",
      "metadata": {
        "id": "DlocEnEjSLUE",
        "colab_type": "text"
      },
      "source": [
        "We can name layers as variables, which is a useful shorthand for looking at their properties later on:"
      ]
    },
    {
      "cell_type": "code",
      "metadata": {
        "id": "lB6-HxlBzkGb",
        "colab_type": "code",
        "outputId": "9e21b344-b0dd-4550-d931-d51640ae18e7",
        "colab": {
          "base_uri": "https://localhost:8080/",
          "height": 34
        }
      },
      "source": [
        "hidden1 = model.layers[1]\n",
        "hidden1.name"
      ],
      "execution_count": 0,
      "outputs": [
        {
          "output_type": "execute_result",
          "data": {
            "text/plain": [
              "'dense_1'"
            ]
          },
          "metadata": {
            "tags": []
          },
          "execution_count": 16
        }
      ]
    },
    {
      "cell_type": "code",
      "metadata": {
        "id": "zKaFgkwuzkGd",
        "colab_type": "code",
        "outputId": "9aade4e0-14de-45d4-bc97-1f073f4770dd",
        "colab": {
          "base_uri": "https://localhost:8080/",
          "height": 34
        }
      },
      "source": [
        "model.get_layer(hidden1.name) is hidden1"
      ],
      "execution_count": 0,
      "outputs": [
        {
          "output_type": "execute_result",
          "data": {
            "text/plain": [
              "True"
            ]
          },
          "metadata": {
            "tags": []
          },
          "execution_count": 17
        }
      ]
    },
    {
      "cell_type": "markdown",
      "metadata": {
        "id": "lgsw9k0VSPVd",
        "colab_type": "text"
      },
      "source": [
        "Let's look at the weights and biases pre-training:"
      ]
    },
    {
      "cell_type": "code",
      "metadata": {
        "id": "23t51DChzkGf",
        "colab_type": "code",
        "colab": {}
      },
      "source": [
        "weights, biases = hidden1.get_weights()"
      ],
      "execution_count": 0,
      "outputs": []
    },
    {
      "cell_type": "markdown",
      "metadata": {
        "id": "BhkTULpmSV47",
        "colab_type": "text"
      },
      "source": [
        "What are these weights (how were they initialised)?"
      ]
    },
    {
      "cell_type": "code",
      "metadata": {
        "id": "C-23wiSHzkGh",
        "colab_type": "code",
        "outputId": "814927e3-29cc-47d2-ca29-fdf629ddf11d",
        "colab": {
          "base_uri": "https://localhost:8080/",
          "height": 243
        }
      },
      "source": [
        "weights"
      ],
      "execution_count": 0,
      "outputs": [
        {
          "output_type": "execute_result",
          "data": {
            "text/plain": [
              "array([[ 7.81799387e-03, -7.99118280e-02,  3.50985862e-02, ...,\n",
              "         5.25717027e-02, -3.69381979e-02,  8.97064060e-02],\n",
              "       [ 2.24733949e-02, -5.93330935e-02,  1.81510057e-02, ...,\n",
              "         1.15057826e-01, -5.78481406e-02,  1.31418183e-01],\n",
              "       [-8.14247727e-02,  9.57798883e-02, -1.71356127e-02, ...,\n",
              "        -9.86292735e-02,  1.66069567e-02, -7.32357102e-03],\n",
              "       ...,\n",
              "       [ 2.98689008e-02, -3.78734569e-07, -2.25347150e-02, ...,\n",
              "         1.07668243e-01,  7.23628998e-02, -1.77466005e-01],\n",
              "       [ 3.43462564e-02, -6.67541171e-04, -4.45313938e-02, ...,\n",
              "         9.93826985e-02,  2.95017958e-02,  1.03460930e-01],\n",
              "       [-1.02380805e-01,  9.27029029e-02,  7.63449669e-02, ...,\n",
              "        -8.06867033e-02,  9.29508805e-02,  1.46796674e-01]], dtype=float32)"
            ]
          },
          "metadata": {
            "tags": []
          },
          "execution_count": 19
        }
      ]
    },
    {
      "cell_type": "markdown",
      "metadata": {
        "id": "8MKyLPO1Sm2X",
        "colab_type": "text"
      },
      "source": [
        "Does the shape of the weights matrix for hidden1 make sense to you?"
      ]
    },
    {
      "cell_type": "code",
      "metadata": {
        "id": "ElE-uE0yzkGj",
        "colab_type": "code",
        "outputId": "48aea717-e201-41aa-d216-5d6dab0116d5",
        "colab": {
          "base_uri": "https://localhost:8080/",
          "height": 34
        }
      },
      "source": [
        "weights.shape"
      ],
      "execution_count": 0,
      "outputs": [
        {
          "output_type": "execute_result",
          "data": {
            "text/plain": [
              "(300, 300)"
            ]
          },
          "metadata": {
            "tags": []
          },
          "execution_count": 20
        }
      ]
    },
    {
      "cell_type": "markdown",
      "metadata": {
        "id": "8xCJN_CvSvkQ",
        "colab_type": "text"
      },
      "source": [
        "Let's look at the biases in hidden1. Why are they all zero?"
      ]
    },
    {
      "cell_type": "code",
      "metadata": {
        "id": "Qb2tNkxFzkGm",
        "colab_type": "code",
        "outputId": "df9f2916-aabb-4ee6-94fb-e61fab9dbff1",
        "colab": {
          "base_uri": "https://localhost:8080/",
          "height": 330
        }
      },
      "source": [
        "biases"
      ],
      "execution_count": 0,
      "outputs": [
        {
          "output_type": "execute_result",
          "data": {
            "text/plain": [
              "array([0., 0., 0., 0., 0., 0., 0., 0., 0., 0., 0., 0., 0., 0., 0., 0., 0.,\n",
              "       0., 0., 0., 0., 0., 0., 0., 0., 0., 0., 0., 0., 0., 0., 0., 0., 0.,\n",
              "       0., 0., 0., 0., 0., 0., 0., 0., 0., 0., 0., 0., 0., 0., 0., 0., 0.,\n",
              "       0., 0., 0., 0., 0., 0., 0., 0., 0., 0., 0., 0., 0., 0., 0., 0., 0.,\n",
              "       0., 0., 0., 0., 0., 0., 0., 0., 0., 0., 0., 0., 0., 0., 0., 0., 0.,\n",
              "       0., 0., 0., 0., 0., 0., 0., 0., 0., 0., 0., 0., 0., 0., 0., 0., 0.,\n",
              "       0., 0., 0., 0., 0., 0., 0., 0., 0., 0., 0., 0., 0., 0., 0., 0., 0.,\n",
              "       0., 0., 0., 0., 0., 0., 0., 0., 0., 0., 0., 0., 0., 0., 0., 0., 0.,\n",
              "       0., 0., 0., 0., 0., 0., 0., 0., 0., 0., 0., 0., 0., 0., 0., 0., 0.,\n",
              "       0., 0., 0., 0., 0., 0., 0., 0., 0., 0., 0., 0., 0., 0., 0., 0., 0.,\n",
              "       0., 0., 0., 0., 0., 0., 0., 0., 0., 0., 0., 0., 0., 0., 0., 0., 0.,\n",
              "       0., 0., 0., 0., 0., 0., 0., 0., 0., 0., 0., 0., 0., 0., 0., 0., 0.,\n",
              "       0., 0., 0., 0., 0., 0., 0., 0., 0., 0., 0., 0., 0., 0., 0., 0., 0.,\n",
              "       0., 0., 0., 0., 0., 0., 0., 0., 0., 0., 0., 0., 0., 0., 0., 0., 0.,\n",
              "       0., 0., 0., 0., 0., 0., 0., 0., 0., 0., 0., 0., 0., 0., 0., 0., 0.,\n",
              "       0., 0., 0., 0., 0., 0., 0., 0., 0., 0., 0., 0., 0., 0., 0., 0., 0.,\n",
              "       0., 0., 0., 0., 0., 0., 0., 0., 0., 0., 0., 0., 0., 0., 0., 0., 0.,\n",
              "       0., 0., 0., 0., 0., 0., 0., 0., 0., 0., 0.], dtype=float32)"
            ]
          },
          "metadata": {
            "tags": []
          },
          "execution_count": 21
        }
      ]
    },
    {
      "cell_type": "code",
      "metadata": {
        "id": "Y41ycs_gzkGn",
        "colab_type": "code",
        "outputId": "a69a745f-0ef3-4cd9-c99a-e31ed501b909",
        "colab": {
          "base_uri": "https://localhost:8080/",
          "height": 34
        }
      },
      "source": [
        "biases.shape"
      ],
      "execution_count": 0,
      "outputs": [
        {
          "output_type": "execute_result",
          "data": {
            "text/plain": [
              "(300,)"
            ]
          },
          "metadata": {
            "tags": []
          },
          "execution_count": 22
        }
      ]
    },
    {
      "cell_type": "markdown",
      "metadata": {
        "id": "kfV6LNWmS9bS",
        "colab_type": "text"
      },
      "source": [
        "Next, let's set up an optimizer and a loss function. What kind of input does a categorical cross entropy loss function expect?\n",
        "\n",
        "Hint: check https://keras.io/losses/"
      ]
    },
    {
      "cell_type": "code",
      "metadata": {
        "id": "U3tjk1lXzkGs",
        "colab_type": "code",
        "colab": {}
      },
      "source": [
        "opt = keras.optimizers.SGD(learning_rate=1e-3)\n",
        "model.compile(loss='categorical_crossentropy',\n",
        "              optimizer=opt,\n",
        "              metrics=['accuracy'])"
      ],
      "execution_count": 0,
      "outputs": []
    },
    {
      "cell_type": "code",
      "metadata": {
        "id": "323K5ZxGtWv1",
        "colab_type": "code",
        "colab": {}
      },
      "source": [
        "###data preparation for Keras model\n",
        "x_train_k = X\n",
        "x_test_k = x_test_\n",
        "y_train_k = keras.utils.to_categorical(y, 10).astype('int32')\n",
        "y_test_k = keras.utils.to_categorical(y_test_, 10).astype('int32')"
      ],
      "execution_count": 0,
      "outputs": []
    },
    {
      "cell_type": "markdown",
      "metadata": {
        "id": "Nr6ugc6CT100",
        "colab_type": "text"
      },
      "source": [
        "Now fit the model. We will run 20 epochs. An epoch is a single coverage of all the training samples. There are 1000 training samples and the batch size is 100 so in each epoch there will be 10 batches. We pass the test set as a validation set. It is not used in training but after each epoch we will check the performance of the circuit on the validation data."
      ]
    },
    {
      "cell_type": "code",
      "metadata": {
        "id": "vIhXeCKLzkGv",
        "colab_type": "code",
        "outputId": "0c01b7cf-cbfd-401e-fcb2-5db6d7b12ae4",
        "colab": {
          "base_uri": "https://localhost:8080/",
          "height": 732
        }
      },
      "source": [
        "history = model.fit(x_train_k, y_train_k, epochs=20,\n",
        "                    validation_data=(x_test_k, y_test_k),batch_size=100)"
      ],
      "execution_count": 0,
      "outputs": [
        {
          "output_type": "stream",
          "text": [
            "Epoch 1/20\n",
            "10/10 [==============================] - 2s 166ms/step - loss: 2.3167 - accuracy: 0.1060 - val_loss: 2.2686 - val_accuracy: 0.1420\n",
            "Epoch 2/20\n",
            "10/10 [==============================] - 1s 149ms/step - loss: 2.2262 - accuracy: 0.1840 - val_loss: 2.2016 - val_accuracy: 0.2280\n",
            "Epoch 3/20\n",
            "10/10 [==============================] - 1s 149ms/step - loss: 2.1616 - accuracy: 0.2630 - val_loss: 2.1485 - val_accuracy: 0.2590\n",
            "Epoch 4/20\n",
            "10/10 [==============================] - 2s 151ms/step - loss: 2.1040 - accuracy: 0.3130 - val_loss: 2.1011 - val_accuracy: 0.3310\n",
            "Epoch 5/20\n",
            "10/10 [==============================] - 1s 148ms/step - loss: 2.0545 - accuracy: 0.3840 - val_loss: 2.0578 - val_accuracy: 0.3820\n",
            "Epoch 6/20\n",
            "10/10 [==============================] - 1s 150ms/step - loss: 2.0082 - accuracy: 0.4400 - val_loss: 2.0173 - val_accuracy: 0.4000\n",
            "Epoch 7/20\n",
            "10/10 [==============================] - 1s 149ms/step - loss: 1.9644 - accuracy: 0.4770 - val_loss: 1.9796 - val_accuracy: 0.4190\n",
            "Epoch 8/20\n",
            "10/10 [==============================] - 1s 147ms/step - loss: 1.9232 - accuracy: 0.4900 - val_loss: 1.9408 - val_accuracy: 0.4770\n",
            "Epoch 9/20\n",
            "10/10 [==============================] - 1s 147ms/step - loss: 1.8825 - accuracy: 0.5230 - val_loss: 1.9060 - val_accuracy: 0.4940\n",
            "Epoch 10/20\n",
            "10/10 [==============================] - 1s 148ms/step - loss: 1.8446 - accuracy: 0.5560 - val_loss: 1.8723 - val_accuracy: 0.4970\n",
            "Epoch 11/20\n",
            "10/10 [==============================] - 2s 151ms/step - loss: 1.8078 - accuracy: 0.5630 - val_loss: 1.8388 - val_accuracy: 0.5270\n",
            "Epoch 12/20\n",
            "10/10 [==============================] - 1s 148ms/step - loss: 1.7717 - accuracy: 0.5840 - val_loss: 1.8073 - val_accuracy: 0.5420\n",
            "Epoch 13/20\n",
            "10/10 [==============================] - 1s 150ms/step - loss: 1.7351 - accuracy: 0.5900 - val_loss: 1.7749 - val_accuracy: 0.5590\n",
            "Epoch 14/20\n",
            "10/10 [==============================] - 2s 153ms/step - loss: 1.7011 - accuracy: 0.6120 - val_loss: 1.7454 - val_accuracy: 0.5660\n",
            "Epoch 15/20\n",
            "10/10 [==============================] - 1s 150ms/step - loss: 1.6674 - accuracy: 0.6400 - val_loss: 1.7163 - val_accuracy: 0.5670\n",
            "Epoch 16/20\n",
            "10/10 [==============================] - 1s 148ms/step - loss: 1.6371 - accuracy: 0.6400 - val_loss: 1.6873 - val_accuracy: 0.5830\n",
            "Epoch 17/20\n",
            "10/10 [==============================] - 2s 152ms/step - loss: 1.6046 - accuracy: 0.6390 - val_loss: 1.6593 - val_accuracy: 0.5980\n",
            "Epoch 18/20\n",
            "10/10 [==============================] - 1s 149ms/step - loss: 1.5761 - accuracy: 0.6710 - val_loss: 1.6340 - val_accuracy: 0.6020\n",
            "Epoch 19/20\n",
            "10/10 [==============================] - 1s 148ms/step - loss: 1.5469 - accuracy: 0.6800 - val_loss: 1.6088 - val_accuracy: 0.6300\n",
            "Epoch 20/20\n",
            "10/10 [==============================] - 1s 149ms/step - loss: 1.5195 - accuracy: 0.6950 - val_loss: 1.5845 - val_accuracy: 0.6350\n"
          ],
          "name": "stdout"
        }
      ]
    },
    {
      "cell_type": "markdown",
      "metadata": {
        "id": "zpan1b84VOsu",
        "colab_type": "text"
      },
      "source": [
        "What do you observe about the results as the network learns? Do the losses monotonically decrease? Do the accuracies monotonically increase? Is the model overfitting?\n",
        "\n",
        "We stored the progress in a variable called history, let's look at what is inside it.\n",
        "\n"
      ]
    },
    {
      "cell_type": "code",
      "metadata": {
        "id": "q9UWHdbMzkGw",
        "colab_type": "code",
        "outputId": "6683d833-d9f4-4087-ee98-262bae813cdc",
        "colab": {
          "base_uri": "https://localhost:8080/",
          "height": 34
        }
      },
      "source": [
        "history.params"
      ],
      "execution_count": 0,
      "outputs": [
        {
          "output_type": "execute_result",
          "data": {
            "text/plain": [
              "{'epochs': 20, 'steps': 10, 'verbose': 1}"
            ]
          },
          "metadata": {
            "tags": []
          },
          "execution_count": 26
        }
      ]
    },
    {
      "cell_type": "code",
      "metadata": {
        "id": "b0LxVuv1zkGy",
        "colab_type": "code",
        "outputId": "9cedb814-6749-4f32-b21d-caaf6717db62",
        "colab": {
          "base_uri": "https://localhost:8080/",
          "height": 34
        }
      },
      "source": [
        "print(history.epoch)"
      ],
      "execution_count": 0,
      "outputs": [
        {
          "output_type": "stream",
          "text": [
            "[0, 1, 2, 3, 4, 5, 6, 7, 8, 9, 10, 11, 12, 13, 14, 15, 16, 17, 18, 19]\n"
          ],
          "name": "stdout"
        }
      ]
    },
    {
      "cell_type": "code",
      "metadata": {
        "id": "RDrncFY0zkG0",
        "colab_type": "code",
        "outputId": "8cb9207c-f0fc-4a6e-f9df-d7b9ba22ecd6",
        "colab": {
          "base_uri": "https://localhost:8080/",
          "height": 34
        }
      },
      "source": [
        "history.history.keys()"
      ],
      "execution_count": 0,
      "outputs": [
        {
          "output_type": "execute_result",
          "data": {
            "text/plain": [
              "dict_keys(['loss', 'accuracy', 'val_loss', 'val_accuracy'])"
            ]
          },
          "metadata": {
            "tags": []
          },
          "execution_count": 28
        }
      ]
    },
    {
      "cell_type": "markdown",
      "metadata": {
        "id": "7TzGDXnQWOWg",
        "colab_type": "text"
      },
      "source": [
        "We can plot the losses and accuracies."
      ]
    },
    {
      "cell_type": "code",
      "metadata": {
        "id": "ATtfFt0izkG2",
        "colab_type": "code",
        "outputId": "741f0039-3e01-4b20-9fdd-1ca47375eebe",
        "colab": {
          "base_uri": "https://localhost:8080/",
          "height": 324
        }
      },
      "source": [
        "import pandas as pd\n",
        "\n",
        "pd.DataFrame(history.history).plot(figsize=(8, 5))\n",
        "plt.grid(True)\n",
        "plt.gca().set_ylim(0, 3)\n",
        "plt.show()"
      ],
      "execution_count": 0,
      "outputs": [
        {
          "output_type": "display_data",
          "data": {
            "image/png": "[encoded data removed]",
            "text/plain": [
              "<Figure size 576x360 with 1 Axes>"
            ]
          },
          "metadata": {
            "tags": []
          }
        }
      ]
    },
    {
      "cell_type": "markdown",
      "metadata": {
        "id": "WP2D-HJlXwoZ",
        "colab_type": "text"
      },
      "source": [
        "Let's now do a prediction on the first 50 test samples. We do an extra step after prediction - argmax. What does this step do?"
      ]
    },
    {
      "cell_type": "code",
      "metadata": {
        "id": "EuGIh63YzkG5",
        "colab_type": "code",
        "outputId": "8bba584f-8861-41aa-a406-ad82067e5501",
        "colab": {
          "base_uri": "https://localhost:8080/",
          "height": 104
        }
      },
      "source": [
        "###predict 50 data points in test set\n",
        "sample_len=50\n",
        "X_new = x_test_k[:sample_len]\n",
        "y_proba = model.predict(X_new)\n",
        "prediction = np.argmax(y_proba,axis=1)\n",
        "ground_truth = np.argmax(y_test_k[:sample_len],axis=1)\n",
        "print('prediction:',prediction)\n",
        "print('ground_truth:',ground_truth)\n",
        "count=0\n",
        "for i,j in zip(prediction,ground_truth):\n",
        "  if i==j:\n",
        "    count+=1\n",
        "print(f'Accuracy:{count*100/sample_len:.2f}%')"
      ],
      "execution_count": 0,
      "outputs": [
        {
          "output_type": "stream",
          "text": [
            "prediction: [3 5 0 8 5 5 0 3 3 3 8 2 3 5 4 6 1 9 3 3 8 5 1 5 3 2 3 3 0 1 3 2 1 3 5 1 9\n",
            " 8 1 0 2 6 2 3 4 0 3 5 5 4]\n",
            "ground_truth: [4 5 0 8 1 1 0 3 3 3 8 3 3 5 4 6 3 9 3 6 8 5 1 5 3 2 3 3 0 1 6 7 1 6 5 3 4\n",
            " 8 1 0 2 6 2 3 4 7 3 5 7 4]\n",
            "Accuracy:74.00%\n"
          ],
          "name": "stdout"
        }
      ]
    },
    {
      "cell_type": "markdown",
      "metadata": {
        "id": "LTnlngj5zkHN",
        "colab_type": "text"
      },
      "source": [
        "# Functional API"
      ]
    },
    {
      "cell_type": "markdown",
      "metadata": {
        "id": "szsovfAnzkHN",
        "colab_type": "text"
      },
      "source": [
        "Not all neural network models are simply sequential, some models may have more complex topologies. Some may have multiple inputs and/or multiple outputs. Compared to the Sequential API, the Functional API is more flexible, which allows us to build these more complex model architectures. \n",
        "\n",
        "We define layers of different types interrelated by their input and output. Finally incorporate them all in a single Model."
      ]
    },
    {
      "cell_type": "code",
      "metadata": {
        "id": "kKZOuAInzkHO",
        "colab_type": "code",
        "colab": {}
      },
      "source": [
        "np.random.seed(42)\n",
        "tf.random.set_seed(42)\n",
        "\n",
        "input_ = keras.layers.Input(shape=x_train_k.shape[1:],batch_size=100)\n",
        "hidden1 = keras.layers.Dense(100, activation=\"relu\")(input_)\n",
        "hidden2 = keras.layers.Dense(38400, activation=\"relu\")(hidden1)\n",
        "concat = keras.layers.concatenate([input_, hidden2])\n",
        "output = keras.layers.Dense(10)(concat)\n",
        "output = keras.layers.Softmax()(output)\n",
        "model_functional = keras.models.Model(inputs=[input_], outputs=[output])"
      ],
      "execution_count": 0,
      "outputs": []
    },
    {
      "cell_type": "markdown",
      "metadata": {
        "id": "4iCwxDvDaBRf",
        "colab_type": "text"
      },
      "source": [
        "Then look at the Model summary and plot:"
      ]
    },
    {
      "cell_type": "code",
      "metadata": {
        "id": "UnLoyoQ0zkHQ",
        "colab_type": "code",
        "outputId": "9240b306-7796-46a5-c5fc-9fa6faa85dea",
        "colab": {
          "base_uri": "https://localhost:8080/",
          "height": 382
        }
      },
      "source": [
        "model_functional.summary()"
      ],
      "execution_count": 0,
      "outputs": [
        {
          "output_type": "stream",
          "text": [
            "Model: \"model\"\n",
            "__________________________________________________________________________________________________\n",
            "Layer (type)                    Output Shape         Param #     Connected to                     \n",
            "==================================================================================================\n",
            "input_2 (InputLayer)            [(100, 38400)]       0                                            \n",
            "__________________________________________________________________________________________________\n",
            "dense_3 (Dense)                 (100, 100)           3840100     input_2[0][0]                    \n",
            "__________________________________________________________________________________________________\n",
            "dense_4 (Dense)                 (100, 38400)         3878400     dense_3[0][0]                    \n",
            "__________________________________________________________________________________________________\n",
            "concatenate (Concatenate)       (100, 76800)         0           input_2[0][0]                    \n",
            "                                                                 dense_4[0][0]                    \n",
            "__________________________________________________________________________________________________\n",
            "dense_5 (Dense)                 (100, 10)            768010      concatenate[0][0]                \n",
            "__________________________________________________________________________________________________\n",
            "softmax (Softmax)               (100, 10)            0           dense_5[0][0]                    \n",
            "==================================================================================================\n",
            "Total params: 8,486,510\n",
            "Trainable params: 8,486,510\n",
            "Non-trainable params: 0\n",
            "__________________________________________________________________________________________________\n"
          ],
          "name": "stdout"
        }
      ]
    },
    {
      "cell_type": "code",
      "metadata": {
        "id": "dNoy0Q9_Uf7l",
        "colab_type": "code",
        "outputId": "e892bf55-9f46-4636-b39f-3462c3d61547",
        "colab": {
          "base_uri": "https://localhost:8080/",
          "height": 644
        }
      },
      "source": [
        "keras.utils.plot_model(model_functional, \"my_hand_gestures_model_functional.png\", show_shapes=True)"
      ],
      "execution_count": 0,
      "outputs": [
        {
          "output_type": "execute_result",
          "data": {
            "image/png": "[encoded data removed]",
            "text/plain": [
              "<IPython.core.display.Image object>"
            ]
          },
          "metadata": {
            "tags": []
          },
          "execution_count": 33
        }
      ]
    },
    {
      "cell_type": "markdown",
      "metadata": {
        "id": "AV_K_FsBaLnR",
        "colab_type": "text"
      },
      "source": [
        "Now let's train the Model."
      ]
    },
    {
      "cell_type": "code",
      "metadata": {
        "id": "TFDa2y-ZzkHS",
        "colab_type": "code",
        "outputId": "e8baedb4-3384-4853-ef04-051b7fbd4955",
        "colab": {
          "base_uri": "https://localhost:8080/",
          "height": 662
        }
      },
      "source": [
        "model_functional.compile(loss=\"categorical_crossentropy\", optimizer=keras.optimizers.SGD(lr=1e-3),metrics=['accuracy'])\n",
        "history = model_functional.fit(x_train_k, y_train_k, epochs=20,\n",
        "                    validation_data=(x_test_k, y_test_k),batch_size=100)\n",
        "\n"
      ],
      "execution_count": 0,
      "outputs": [
        {
          "output_type": "stream",
          "text": [
            "Epoch 1/20\n",
            "10/10 [==============================] - 2s 218ms/step - loss: 2.3063 - accuracy: 0.1030 - val_loss: 2.2530 - val_accuracy: 0.1520\n",
            "Epoch 2/20\n",
            "10/10 [==============================] - 2s 196ms/step - loss: 2.2252 - accuracy: 0.1710 - val_loss: 2.2024 - val_accuracy: 0.1660\n",
            "Epoch 3/20\n",
            "10/10 [==============================] - 2s 193ms/step - loss: 2.1748 - accuracy: 0.1920 - val_loss: 2.1599 - val_accuracy: 0.2140\n",
            "Epoch 4/20\n",
            "10/10 [==============================] - 2s 193ms/step - loss: 2.1235 - accuracy: 0.2390 - val_loss: 2.1173 - val_accuracy: 0.2850\n",
            "Epoch 5/20\n",
            "10/10 [==============================] - 2s 192ms/step - loss: 2.0785 - accuracy: 0.3230 - val_loss: 2.0781 - val_accuracy: 0.3060\n",
            "Epoch 6/20\n",
            "10/10 [==============================] - 2s 194ms/step - loss: 2.0366 - accuracy: 0.3720 - val_loss: 2.0437 - val_accuracy: 0.3170\n",
            "Epoch 7/20\n",
            "10/10 [==============================] - 2s 198ms/step - loss: 1.9973 - accuracy: 0.3700 - val_loss: 2.0095 - val_accuracy: 0.3610\n",
            "Epoch 8/20\n",
            "10/10 [==============================] - 2s 195ms/step - loss: 1.9604 - accuracy: 0.3950 - val_loss: 1.9756 - val_accuracy: 0.4150\n",
            "Epoch 9/20\n",
            "10/10 [==============================] - 2s 194ms/step - loss: 1.9239 - accuracy: 0.4600 - val_loss: 1.9446 - val_accuracy: 0.4350\n",
            "Epoch 10/20\n",
            "10/10 [==============================] - 2s 196ms/step - loss: 1.8906 - accuracy: 0.4980 - val_loss: 1.9166 - val_accuracy: 0.4530\n",
            "Epoch 11/20\n",
            "10/10 [==============================] - 2s 194ms/step - loss: 1.8596 - accuracy: 0.5140 - val_loss: 1.8883 - val_accuracy: 0.4730\n",
            "Epoch 12/20\n",
            "10/10 [==============================] - 2s 196ms/step - loss: 1.8296 - accuracy: 0.5290 - val_loss: 1.8628 - val_accuracy: 0.4830\n",
            "Epoch 13/20\n",
            "10/10 [==============================] - 2s 194ms/step - loss: 1.7996 - accuracy: 0.5350 - val_loss: 1.8371 - val_accuracy: 0.4990\n",
            "Epoch 14/20\n",
            "10/10 [==============================] - 2s 194ms/step - loss: 1.7726 - accuracy: 0.5670 - val_loss: 1.8141 - val_accuracy: 0.5120\n",
            "Epoch 15/20\n",
            "10/10 [==============================] - 2s 194ms/step - loss: 1.7455 - accuracy: 0.5910 - val_loss: 1.7917 - val_accuracy: 0.4980\n",
            "Epoch 16/20\n",
            "10/10 [==============================] - 2s 200ms/step - loss: 1.7222 - accuracy: 0.5780 - val_loss: 1.7695 - val_accuracy: 0.5300\n",
            "Epoch 17/20\n",
            "10/10 [==============================] - 2s 196ms/step - loss: 1.6961 - accuracy: 0.6030 - val_loss: 1.7484 - val_accuracy: 0.5400\n",
            "Epoch 18/20\n",
            " 3/10 [========>.....................] - ETA: 0s - loss: 1.6558 - accuracy: 0.6267"
          ],
          "name": "stdout"
        }
      ]
    },
    {
      "cell_type": "markdown",
      "metadata": {
        "id": "HC8bZZwbbe8D",
        "colab_type": "text"
      },
      "source": [
        "The Functional model is more complicated but how do its results compare with the Sequential model after the same number of epochs?\n",
        "\n",
        "Let's look at the first ten softmax predictions for the test set."
      ]
    },
    {
      "cell_type": "code",
      "metadata": {
        "id": "VDQPWRghb5RE",
        "colab_type": "code",
        "colab": {}
      },
      "source": [
        "y_pred = model_functional.predict(X_new)\n",
        "print(y_pred[0:10])"
      ],
      "execution_count": 0,
      "outputs": []
    },
    {
      "cell_type": "markdown",
      "metadata": {
        "id": "NZymy8LuzkHj",
        "colab_type": "text"
      },
      "source": [
        "# Saving and Restoring\n",
        "\n",
        "We can save models in the Colab drive. This is useful as we don't want to have to continually rerun models. Let's save our last model then restore it under a new name and check it gives the same predictions.\n",
        "\n",
        "You can see saved models, images and downloaded data in the Files window to the left of this notebook."
      ]
    },
    {
      "cell_type": "code",
      "metadata": {
        "id": "gv846GNuzkHn",
        "colab_type": "code",
        "colab": {}
      },
      "source": [
        "model_functional.save(\"my_keras_model.h5\")"
      ],
      "execution_count": 0,
      "outputs": []
    },
    {
      "cell_type": "code",
      "metadata": {
        "id": "yYFKL5T0zkHo",
        "colab_type": "code",
        "colab": {}
      },
      "source": [
        "model_functional_reloaded = keras.models.load_model(\"my_keras_model.h5\",compile=False)"
      ],
      "execution_count": 0,
      "outputs": []
    },
    {
      "cell_type": "code",
      "metadata": {
        "id": "Wes46nHFzkHq",
        "colab_type": "code",
        "colab": {}
      },
      "source": [
        "model_functional_reloaded.predict(X_new[0:10])"
      ],
      "execution_count": 0,
      "outputs": []
    },
    {
      "cell_type": "markdown",
      "metadata": {
        "id": "I89_QW-4zkHu",
        "colab_type": "text"
      },
      "source": [
        "# Using Callbacks during Training\n",
        "\n",
        "Callbacks are functions that can be applied during training with their results stored for later use. One such function is a Model Checkpoint which saves the intermediate training model with the best result for one of the metrics.\n",
        "\n",
        "User guide: https://keras.io/callbacks/\n",
        "\n",
        "What is the default metric for the 'save_best_only' instruction to monitor?"
      ]
    },
    {
      "cell_type": "code",
      "metadata": {
        "id": "K0wuf8HjzkHy",
        "colab_type": "code",
        "colab": {}
      },
      "source": [
        "model_functional_reloaded.compile(loss=\"categorical_crossentropy\", optimizer=keras.optimizers.SGD(lr=1e-3),metrics=['accuracy'])\n",
        "checkpoint_cb = keras.callbacks.ModelCheckpoint(\"my_keras_model_best.h5\", save_best_only=True)\n",
        "history = model_functional_reloaded.fit(x_train_k, y_train_k, epochs=20,\n",
        "                    validation_data=(x_test_k, y_test_k),\n",
        "                    callbacks=[checkpoint_cb],batch_size=100)"
      ],
      "execution_count": 0,
      "outputs": []
    },
    {
      "cell_type": "markdown",
      "metadata": {
        "id": "Xx3SAhiKeVpE",
        "colab_type": "text"
      },
      "source": [
        "EarlyStopping is another callback. What does it do?"
      ]
    },
    {
      "cell_type": "code",
      "metadata": {
        "id": "wlS0RXIZzkHz",
        "colab_type": "code",
        "colab": {}
      },
      "source": [
        "model_functional_reloaded.compile(loss=\"categorical_crossentropy\", optimizer=keras.optimizers.SGD(lr=1e-3),metrics=['accuracy'])\n",
        "early_stopping_cb = keras.callbacks.EarlyStopping(patience=10,\n",
        "                                                  restore_best_weights=True)\n",
        "history = model_functional_reloaded.fit(x_train_k, y_train_k, epochs=20,\n",
        "                    validation_data=(x_test_k, y_test_k),\n",
        "                    callbacks=[early_stopping_cb],batch_size=100)"
      ],
      "execution_count": 0,
      "outputs": []
    },
    {
      "cell_type": "markdown",
      "metadata": {
        "collapsed": true,
        "id": "oCmfTvA4zkIZ",
        "colab_type": "text"
      },
      "source": [
        "# Exercise\n",
        "\n",
        "Please use the Keras Functional API to build and train a multilayer neural network for hand gesture recognition. Your model needs to satisfy the following: \n",
        "\n",
        "*   it must have at least three hidden layers; \n",
        "*   the hidden layers must use LeakyReLU as activation;\n",
        "*   it must use Adam as the optimizer to train your model.\n",
        "\n",
        "Please tune the model parameters (hidden size, alpha of LeakyReLU, learning rate) and save your best model using callback. Can you achieve 95% accuracy on the test set?"
      ]
    },
    {
      "cell_type": "code",
      "metadata": {
        "id": "QokL5UYZoRJY",
        "colab_type": "code",
        "colab": {}
      },
      "source": [
        "###Start your code from here. You can use the below variables as training \\\n",
        "###and test sets (You can also use the complete dataset).\n",
        "x_train_k = X\n",
        "x_test_k = x_test_\n",
        "y_train_k = keras.utils.to_categorical(y, 10).astype('int32')\n",
        "y_test_k = keras.utils.to_categorical(y_test_, 10).astype('int32')\n"
      ],
      "execution_count": 0,
      "outputs": []
    }
  ]
}